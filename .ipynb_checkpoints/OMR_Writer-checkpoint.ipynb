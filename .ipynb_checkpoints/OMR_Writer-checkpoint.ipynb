{
 "cells": [
  {
   "cell_type": "code",
   "execution_count": 4,
   "id": "af6e71cb",
   "metadata": {
    "scrolled": true
   },
   "outputs": [
    {
     "name": "stdout",
     "output_type": "stream",
     "text": [
      "Enter message to be encoded : hello world\n"
     ]
    },
    {
     "data": {
      "text/plain": [
       "True"
      ]
     },
     "execution_count": 4,
     "metadata": {},
     "output_type": "execute_result"
    }
   ],
   "source": [
    "import cv2 as cv\n",
    "import numpy as np\n",
    "import argparse\n",
    "import sys\n",
    "\n",
    "img = cv.imread(cv.samples.findFile(\"input_sheet.png\"))\n",
    "\n",
    "\n",
    "scale_percent = 23.5 # percent of original size\n",
    "width = int(img.shape[1] * scale_percent / 100)\n",
    "height = int(img.shape[0] * scale_percent / 100)\n",
    "dim = (width, height)\n",
    "  \n",
    "# resize image\n",
    "img = cv.resize(img, dim, interpolation = cv.INTER_AREA)\n",
    "output = img.copy()\n",
    "\n",
    "gray = cv.cvtColor(img, cv.COLOR_BGR2GRAY)\n",
    "\n",
    "# max 25\n",
    "test_str = \"Hello World!!!!! HEY how?\"\n",
    "\n",
    "test_str = input(\"Enter message to be encoded : \")\n",
    "\n",
    "res = ''.join(format(ord(i), '08b') for i in test_str)\n",
    "\n",
    "# print(len(res), res, \" line 24\")\n",
    "\n",
    "res_len = len(res)\n",
    "\n",
    "while(res_len <= 200):\n",
    "    res += \"0\"\n",
    "    res_len += 1\n",
    "\n",
    "# print(len(res))\n",
    "\n",
    "\n",
    "circles = cv.HoughCircles(gray, cv.HOUGH_GRADIENT, minDist=2,\n",
    "                           dp=1.1,\n",
    "                           param1=150,\n",
    "                           param2=15,\n",
    "                           minRadius=7,\n",
    "                           maxRadius=9)\n",
    "\n",
    "# print(circles.shape)\n",
    "# circles.shape = (600, 3)\n",
    "circles.shape = (circles.shape[1], circles.shape[2])\n",
    "\n",
    "circles = circles.tolist()\n",
    "circles = sorted(circles, key=lambda x:(x[1]))\n",
    "\n",
    "\n",
    "if circles is not None:\n",
    "\n",
    "    ct=0\n",
    "\n",
    "    for l in range(0, len(circles), 15):\n",
    "\n",
    "        otp = []\n",
    "        copy_l = l\n",
    "        if ct == 1:\n",
    "            break\n",
    "            \n",
    "        while copy_l < l+15:\n",
    "            otp.append(circles[copy_l])\n",
    "            copy_l += 1\n",
    "\n",
    "        temporary = sorted(otp, key=lambda x:(x[0]))\n",
    "\n",
    "        \n",
    "        for q in range(0, len(temporary), 3):\n",
    "            \n",
    "            if(res[ct] == \"0\"):    \n",
    "                temp_arr = temporary[q]\n",
    "                x = int(temp_arr[0])\n",
    "                y = int(temp_arr[1])\n",
    "                r = int(temp_arr[2])\n",
    "            else:\n",
    "                temp_arr = temporary[q+2]\n",
    "                x = int(temp_arr[0])\n",
    "                y = int(temp_arr[1])\n",
    "                r = int(temp_arr[2])\n",
    "            \n",
    "\n",
    "            cv.circle(output, (x, y), r, (0, 0, 0), -1)\n",
    "            cv.imshow(\"output\", output)\n",
    "            cv.waitKey(15)\n",
    "            ct = ct+1\n",
    "\n",
    "# show the output image\n",
    "cv.imshow(\"output\", output)\n",
    "cv.waitKey(0)\n",
    "cv.destroyAllWindows()\n",
    "\n",
    "filename = \"output_sheet.png\"\n",
    "cv.imwrite(filename, output)\n",
    "\n",
    "# # cv.imshow(\"Display window\", gray)\n",
    "# # k = cv.waitKey(0)"
   ]
  }
 ],
 "metadata": {
  "kernelspec": {
   "display_name": "Python 3 (ipykernel)",
   "language": "python",
   "name": "python3"
  },
  "language_info": {
   "codemirror_mode": {
    "name": "ipython",
    "version": 3
   },
   "file_extension": ".py",
   "mimetype": "text/x-python",
   "name": "python",
   "nbconvert_exporter": "python",
   "pygments_lexer": "ipython3",
   "version": "3.9.7"
  }
 },
 "nbformat": 4,
 "nbformat_minor": 5
}
